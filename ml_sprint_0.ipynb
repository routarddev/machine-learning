{
 "cells": [
  {
   "cell_type": "markdown",
   "id": "9effc446-eef8-4298-8f63-f5a825f6f889",
   "metadata": {},
   "source": [
    "# IT Academy - Machine Learning\n",
    "\n",
    "## Jupyter markdown practice\n",
    "\n",
    "![Python](https://upload.wikimedia.org/wikipedia/commons/thumb/1/1f/Python_logo_01.svg/240px-Python_logo_01.svg.png)\n",
    "\n",
    "\n",
    "- [Title creation](#1)\n",
    "- [List creation](#2)\n",
    "- [Text style](#3)\n",
    "- [Insert images](#4)\n",
    "- [Table of contents](#5)\n",
    "\n",
    "<br>"
   ]
  },
  {
   "cell_type": "markdown",
   "id": "c0fa7e00-ad37-4a42-9ab8-4eafef93bae8",
   "metadata": {},
   "source": [
    "<a id=\"#1\"></a>\n",
    "## 1. Title creation"
   ]
  },
  {
   "cell_type": "markdown",
   "id": "4ebfab9d-2db5-45a1-a80f-7fcb32f215f7",
   "metadata": {},
   "source": [
    "# Title\n",
    "## Major heading\n",
    "### Subheading\n",
    "#### 4th level subheading\n",
    "\n",
    "<br>"
   ]
  },
  {
   "cell_type": "markdown",
   "id": "f8cca81c-78e5-4d3f-a20b-e05ebd872f89",
   "metadata": {},
   "source": [
    " <a id=\"#2\"></a>\n",
    "## 2. List creation"
   ]
  },
  {
   "cell_type": "markdown",
   "id": "154d8ee7-8de3-4576-bc7c-0606b92134d3",
   "metadata": {},
   "source": [
    "**Numbered List:**\n",
    "\n",
    "1. Item 1\n",
    "2. Item 2\n",
    "3. Item 3\n",
    "\n",
    "**Numbered List with substeps:**\n",
    "1. Item 1\n",
    "    1. Substep 1\n",
    "    2. Substep 2\n",
    "2. Item 2\n",
    "    1. Substep 1\n",
    "    2. Substep 2\n",
    "\n",
    "**Bullet points:**\n",
    "- Main bullet point\n",
    "     - Sub bullet point\n",
    " \n",
    "<br>"
   ]
  },
  {
   "cell_type": "markdown",
   "id": "6a7fae3f-7476-4aca-bdbb-b5b69d22d373",
   "metadata": {},
   "source": [
    "<a id=\"#3\"></a>\n",
    "## 3. Text style\n",
    "\n",
    "* Bold text: __string__ or **string**\n",
    "\n",
    "* Italic text: _string_ or *string*\n",
    "\n",
    "* Strike text: ~strike text~\n",
    "\n",
    "* Underline text: <u>underline text</u>\n",
    "\n",
    "* Highlight code: `Here is some code!`\n",
    "\n",
    "* Code block:\n",
    "```\n",
    "def greet(name):\n",
    "    return f\"Hello, {name}!\"\n",
    "```\n",
    "\n",
    "* Quotes: \n",
    "> The best way to predict the future is to invent it. — Alan Kay"
   ]
  },
  {
   "cell_type": "markdown",
   "id": "244cef50-3e66-443a-a3d3-2573171516ad",
   "metadata": {},
   "source": [
    "<a id=\"#4\"></a>\n",
    "## 4. Insert images"
   ]
  },
  {
   "cell_type": "markdown",
   "id": "b8f2a233-5104-4f5f-baa2-56a9b8e28084",
   "metadata": {},
   "source": [
    "![alternative text](https://upload.wikimedia.org/wikipedia/commons/thumb/5/55/The_relationship_and_main_types_of_artificial_intelligence%2C_machine_learning_and_deep_learning.webp/509px-The_relationship_and_main_types_of_artificial_intelligence%2C_machine_learning_and_deep_learning.webp.png?uselang=es)"
   ]
  },
  {
   "cell_type": "code",
   "execution_count": 1,
   "id": "6df8b2f8-739a-4fe2-acb8-711225ae9670",
   "metadata": {},
   "outputs": [
    {
     "name": "stdout",
     "output_type": "stream",
     "text": [
      "The history saving thread hit an unexpected error (OperationalError('attempt to write a readonly database')).History will not be written to the database.\n"
     ]
    },
    {
     "data": {
      "image/png": "[encoded data removed]",
      "text/plain": [
       "<IPython.core.display.Image object>"
      ]
     },
     "execution_count": 1,
     "metadata": {},
     "output_type": "execute_result"
    }
   ],
   "source": [
    "from IPython import display\n",
    "display.Image(\"https://upload.wikimedia.org/wikipedia/commons/thumb/1/1f/Python_logo_01.svg/240px-Python_logo_01.svg.png\")"
   ]
  },
  {
   "cell_type": "markdown",
   "id": "ca010d7c-bed3-409d-9674-61e04b7ea632",
   "metadata": {},
   "source": [
    "<a id=\"#5\"></a>\n",
    "## 5. Table of Contents (TOC)\n",
    "- [Introduction](#introduction)\n",
    "- [Data Loading](#data-loading)\n",
    "- [Data Analysis](#data-analysis)\n",
    "- [Conclusion](#conclusion)"
   ]
  },
  {
   "cell_type": "code",
   "execution_count": null,
   "id": "b584dc1c-0d58-4cf3-b3a6-30059cc12a9a",
   "metadata": {},
   "outputs": [],
   "source": []
  }
 ],
 "metadata": {
  "kernelspec": {
   "display_name": "Python 3 (ipykernel)",
   "language": "python",
   "name": "python3"
  },
  "language_info": {
   "codemirror_mode": {
    "name": "ipython",
    "version": 3
   },
   "file_extension": ".py",
   "mimetype": "text/x-python",
   "name": "python",
   "nbconvert_exporter": "python",
   "pygments_lexer": "ipython3",
   "version": "3.12.7"
  }
 },
 "nbformat": 4,
 "nbformat_minor": 5
}
